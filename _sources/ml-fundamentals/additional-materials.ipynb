{
 "cells": [
  {
   "cell_type": "markdown",
   "id": "b73a89d0",
   "metadata": {},
   "source": [
    "# Additional Materials\n",
    "\n",
    "\n",
    "## Metrics\n",
    "\n",
    "### Accuracy\n",
    "### Precision\n",
    "### Recall\n",
    "### ROC\n",
    "\n",
    "## Supervised Machine Learning\n",
    "### KNN\n",
    "### Naive Bayes\n",
    "\n",
    "### Decision Tree\n",
    "### Ensemble Learning\n",
    "\n",
    "## Unsupervised Machine Learning\n",
    "## KMeans\n",
    "\n",
    "## Feature Engineering\n",
    "### Feature Selection\n",
    "### Feature Transformation"
   ]
  }
 ],
 "metadata": {
  "jupytext": {
   "cell_metadata_filter": "-all",
   "formats": "md:myst",
   "text_representation": {
    "extension": ".md",
    "format_name": "myst",
    "format_version": 0.13,
    "jupytext_version": "1.11.5"
   }
  },
  "kernelspec": {
   "display_name": "Python 3",
   "language": "python",
   "name": "python3"
  },
  "language_info": {
   "codemirror_mode": {
    "name": "ipython",
    "version": 3
   },
   "file_extension": ".py",
   "mimetype": "text/x-python",
   "name": "python",
   "nbconvert_exporter": "python",
   "pygments_lexer": "ipython3",
   "version": "3.8.13"
  },
  "source_map": [
   14
  ]
 },
 "nbformat": 4,
 "nbformat_minor": 5
}