{
 "cells": [
  {
   "cell_type": "markdown",
   "id": "03172590",
   "metadata": {},
   "source": [
    "# SVM\n",
    "\n",
    "## \n",
    "\n",
    "https://jakevdp.github.io/PythonDataScienceHandbook/05.07-support-vector-machines.html\n",
    "\n",
    "Which is licenced under CC-by licence.\n",
    "\n",
    "## Animation\n",
    "\n",
    "\n",
    "https://www.youtube.com/watch?v=9NrALgHFwTo\n",
    "\n",
    "https://www.youtube.com/watch?v=3liCbRZPrZA\n",
    "\n",
    "\n",
    "### Hinge Loss\n",
    "\n",
    "An alternative to cross-entropy for binary \n",
    "classification problems is the hinge loss function.\n",
    "It is primarily developed for use with \n",
    "Support Vector Machine (SVM) models.\n",
    "\n",
    "It is intended for use with binary \n",
    "classification where the target values are in the set {-1, 1}."
   ]
  }
 ],
 "metadata": {
  "jupytext": {
   "cell_metadata_filter": "-all",
   "formats": "md:myst",
   "text_representation": {
    "extension": ".md",
    "format_name": "myst",
    "format_version": 0.13,
    "jupytext_version": "1.11.5"
   }
  },
  "kernelspec": {
   "display_name": "Python 3",
   "language": "python",
   "name": "python3"
  },
  "language_info": {
   "codemirror_mode": {
    "name": "ipython",
    "version": 3
   },
   "file_extension": ".py",
   "mimetype": "text/x-python",
   "name": "python",
   "nbconvert_exporter": "python",
   "pygments_lexer": "ipython3",
   "version": "3.8.13"
  },
  "source_map": [
   14
  ]
 },
 "nbformat": 4,
 "nbformat_minor": 5
}