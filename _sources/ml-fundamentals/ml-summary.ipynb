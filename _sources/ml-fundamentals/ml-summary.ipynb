{
 "cells": [
  {
   "cell_type": "markdown",
   "id": "d6cce615",
   "metadata": {},
   "source": [
    "# Summary of Machine Learning Fundamentals\n",
    "\n",
    "\n",
    "## Landscape\n",
    "\n",
    "Most of supervised machine learning can be looked at using the following framework: \n",
    "You have a set of training points $(x_i, y_i)$, and you want to find a function f that \"fits the data well\", \n",
    "that is, $yi \\approx f(x_i)$ for most $i$.\n",
    "\n",
    "You will start by doing the following:\n",
    "\n",
    "- Define the form of $f$. For instance, we can define $f = wx + b$, for some constants $w$ and $b$. \n",
    "Note that this is a set of functions — for different values of $w$ and $b$, \n",
    "you will get different functions $f$, and you want to find an $f$\n",
    "from this set that does the “best”.\n",
    "- As you might have noticed, we have been talking about this notion of “best”, \n",
    "which is ill-defined up to this point. So, we need to make this more concrete. \n",
    "The goal here, as stated above, is to have $y_i \\approx f(x_i)$\n",
    "for most $i$.\n",
    "\n",
    "The above two steps essentially define the **function class** and the **loss function** respectively.\n",
    "\n",
    "Depending on how you choose your function class and the loss function, \n",
    "you get different supervised learning models or even unsupervised learning models:\n",
    "\n",
    "- Linear function class with squared-error loss function — Linear regression\n",
    "- Linear function class with logistic loss function — Logistic regression\n",
    "- Linear function class with hinge loss — SVM\n",
    "- Function class containing a network of neurons with cross-entropy loss — Neural networks\n",
    "\n",
    "and so on.\n",
    "\n",
    "## How to conceive a \"new\" Machine Learning algorithm \n",
    "\n",
    "\n",
    "[How about perpendicular distance instead of vertical distance for Linear Regression?]https://math.stackexchange.com/questions/1530298/variant-of-linear-regression-using-perpendicular-distance-instead-of-vertical"
   ]
  }
 ],
 "metadata": {
  "jupytext": {
   "cell_metadata_filter": "-all",
   "formats": "md:myst",
   "text_representation": {
    "extension": ".md",
    "format_name": "myst",
    "format_version": 0.13,
    "jupytext_version": "1.11.5"
   }
  },
  "kernelspec": {
   "display_name": "Python 3",
   "language": "python",
   "name": "python3"
  },
  "language_info": {
   "codemirror_mode": {
    "name": "ipython",
    "version": 3
   },
   "file_extension": ".py",
   "mimetype": "text/x-python",
   "name": "python",
   "nbconvert_exporter": "python",
   "pygments_lexer": "ipython3",
   "version": "3.8.13"
  },
  "source_map": [
   14
  ]
 },
 "nbformat": 4,
 "nbformat_minor": 5
}