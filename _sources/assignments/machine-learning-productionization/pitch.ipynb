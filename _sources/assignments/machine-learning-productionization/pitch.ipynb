{
 "cells": [
  {
   "cell_type": "markdown",
   "id": "701b35ad",
   "metadata": {},
   "source": [
    "# Pitch session\n",
    "\n",
    "In this session/assignment, you should come up with a Machine Learning Project idea.\n",
    "\n",
    "Each student should, in the next session, present your idea with\n",
    "- either a project plan following [this template](overview.ipynb),\n",
    "- or, a slide of around 10 pages, [like this one](https://docs.google.com/presentation/d/1gTK27XUOC12X8PpggB8_NGxVOAPeYV3I5W6QTYIp49U/edit#slide=id.gcb9a0b074_1_0).\n",
    "\n",
    "Your presentation should be limited to around 3 minutes.\n",
    "\n",
    "After the pitch, projects receiving the most votes would \"survive\".\n",
    "You will then form groups of 3-4 students, each group sharing one common project.\n",
    "\n",
    "\n",
    "You will present your midterm work in this manner:\n",
    "- https://courses.d2l.ai/berkeley-stat-157/projects/7.html\n",
    "- https://www.youtube.com/watch?v=pmDEWyf648c\n",
    "\n",
    "And at the end of the project, you will present your work in this manner:\n",
    "- https://www.youtube.com/watch?v=olhyQojuL5M\n",
    "- https://www.youtube.com/watch?v=2F0GSnfKzY4\n",
    "\n",
    "\n",
    "```{seealso}\n",
    "Those URLs are for you to get some inspirations for a Machine Learning Project:\n",
    "- [Video - Bilibili](https://www.bilibili.com/video/BV1244y1J7C7/)\n",
    "- https://www.tensorflow.org/js\n",
    "- https://streamlit.io/gallery\n",
    "- https://playground.tensorflow.org\n",
    "- https://maneprajakta.github.io/Digit_Recognition_Web_App/\n",
    "```"
   ]
  }
 ],
 "metadata": {
  "jupytext": {
   "cell_metadata_filter": "-all",
   "formats": "md:myst",
   "text_representation": {
    "extension": ".md",
    "format_name": "myst",
    "format_version": 0.13,
    "jupytext_version": "1.11.5"
   }
  },
  "kernelspec": {
   "display_name": "Python 3",
   "language": "python",
   "name": "python3"
  },
  "language_info": {
   "codemirror_mode": {
    "name": "ipython",
    "version": 3
   },
   "file_extension": ".py",
   "mimetype": "text/x-python",
   "name": "python",
   "nbconvert_exporter": "python",
   "pygments_lexer": "ipython3",
   "version": "3.8.13"
  },
  "source_map": [
   14
  ]
 },
 "nbformat": 4,
 "nbformat_minor": 5
}